{
 "cells": [
  {
   "cell_type": "code",
   "execution_count": null,
   "id": "83e78360",
   "metadata": {},
   "outputs": [],
   "source": [
    "from IPython.core.display import display, HTML\n",
    "display(HTML('<style>.container {width: 95% !important}</style>'))"
   ]
  },
  {
   "cell_type": "code",
   "execution_count": null,
   "id": "c06e5134",
   "metadata": {},
   "outputs": [],
   "source": [
    "import pandas as pd\n",
    "import numpy as np\n",
    "import matplotlib.pyplot as plt\n",
    "plt.style.use(\"classic\")\n",
    "import yfinance as yf\n",
    "from datetime import date\n",
    "import pandas_ta as ta\n",
    "from dateutil.relativedelta import relativedelta"
   ]
  },
  {
   "cell_type": "code",
   "execution_count": null,
   "id": "06a1d677",
   "metadata": {},
   "outputs": [],
   "source": [
    "end = date.today() # todays date\n",
    "start = end + relativedelta(months=-6) # 6 months past period\n",
    "data = yf.download(tickers=\"ETH-USD\", start=start, end=end, interval=\"1h\") # you can set up relevant interval for future optimisation"
   ]
  },
  {
   "cell_type": "code",
   "execution_count": null,
   "id": "e1e6baf0",
   "metadata": {},
   "outputs": [],
   "source": [
    "# preparing initial dataset\n",
    "data = data.drop(columns=[\"Open\", \"Adj Close\", \"Volume\"])\n",
    "data[\"position\"] = 0"
   ]
  },
  {
   "cell_type": "code",
   "execution_count": null,
   "id": "c9230eb1",
   "metadata": {},
   "outputs": [],
   "source": [
    "# implementation of indicator EMA\n",
    "data[\"ema_fast\"] = ta.ema(close=data[\"Close\"], length=5)\n",
    "data[\"ema_slow\"] = ta.ema(close=data[\"Close\"], length=24)\n",
    "data[\"ema_cross\"] = data[\"ema_fast\"] - data[\"ema_slow\"]"
   ]
  },
  {
   "cell_type": "code",
   "execution_count": null,
   "id": "f15aa44d",
   "metadata": {},
   "outputs": [],
   "source": [
    "# implementation of trade position with price to dataset\n",
    "data[\"position\"] = np.where(data[\"ema_cross\"] > 0, \"long\", \"short\") \n",
    "\n",
    "data[\"trade\"] = np.where(((data[\"position\"] == \"long\") & (data[\"position\"].shift(periods=1) == \"short\")),\n",
    "                         \"long\", np.where(((data[\"position\"] == \"short\") & (data[\"position\"].shift(periods=1) == \"long\")),\n",
    "                         \"short\", \"Nan\"))\n",
    "\n",
    "data[\"position_price\"] = np.where((data[\"trade\"] == \"long\") | (data[\"trade\"] == \"short\"),\n",
    "                                 data[\"Close\"], 0)"
   ]
  },
  {
   "cell_type": "code",
   "execution_count": null,
   "id": "10e6ea26",
   "metadata": {},
   "outputs": [],
   "source": [
    "print(data.to_string())"
   ]
  },
  {
   "cell_type": "code",
   "execution_count": null,
   "id": "cb6775bb",
   "metadata": {},
   "outputs": [],
   "source": [
    "# checking average candle deviation for TP position\n",
    "\n",
    "candle = data[[\"High\", \"Low\", \"Close\"]]\n",
    "candle[\"long_position\"] = (candle[\"High\"] / candle[\"Close\"] - 1)\n",
    "candle[\"short_position\"] = (candle[\"Low\"] / candle[\"Close\"] - 1)\n",
    "long_tp = candle.long_position.mean()\n",
    "short_tp = candle.short_position.mean()"
   ]
  },
  {
   "cell_type": "code",
   "execution_count": null,
   "id": "d805d0a3",
   "metadata": {},
   "outputs": [],
   "source": [
    "# setting up TP value\n",
    "data[\"tp_order\"] = np.where(data[\"trade\"] == \"long\", data[\"position_price\"] * (1 + long_tp),\n",
    "                           np.where(data[\"trade\"] == \"short\", data[\"position_price\"] * (1 + short_tp), \"Nan\"))"
   ]
  },
  {
   "cell_type": "code",
   "execution_count": null,
   "id": "08281af6",
   "metadata": {},
   "outputs": [],
   "source": [
    "print(data.to_string())"
   ]
  }
 ],
 "metadata": {
  "kernelspec": {
   "display_name": "Python 3 (ipykernel)",
   "language": "python",
   "name": "python3"
  },
  "language_info": {
   "codemirror_mode": {
    "name": "ipython",
    "version": 3
   },
   "file_extension": ".py",
   "mimetype": "text/x-python",
   "name": "python",
   "nbconvert_exporter": "python",
   "pygments_lexer": "ipython3",
   "version": "3.9.12"
  }
 },
 "nbformat": 4,
 "nbformat_minor": 5
}
